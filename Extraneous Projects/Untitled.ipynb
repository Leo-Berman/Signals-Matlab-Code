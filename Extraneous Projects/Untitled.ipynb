{
 "cells": [
  {
   "cell_type": "code",
   "execution_count": 1,
   "id": "e97afeab",
   "metadata": {},
   "outputs": [
    {
     "data": {
      "text/latex": [
       "$\\displaystyle 30 e^{- 5 t} e^{- 1.0 i t w}$"
      ],
      "text/plain": [
       "30*exp(-5*t)*exp(-1.0*I*t*w)"
      ]
     },
     "execution_count": 1,
     "metadata": {},
     "output_type": "execute_result"
    }
   ],
   "source": [
    "import numpy as np\n",
    "import scipy as sc\n",
    "import sympy as sp\n",
    "\n",
    "A = 30\n",
    "a = 5\n",
    "\n",
    "t,w = sp.symbols('t w', real = True, positive = True)\n",
    "\n",
    "f = A*sp.exp(-a*t)*sp.exp(-1j*w*t)\n",
    "f"
   ]
  },
  {
   "cell_type": "code",
   "execution_count": 2,
   "id": "11e37d02",
   "metadata": {},
   "outputs": [
    {
     "data": {
      "text/latex": [
       "$\\displaystyle \\frac{6}{0.2 i w + 1}$"
      ],
      "text/plain": [
       "6/(0.2*I*w + 1)"
      ]
     },
     "execution_count": 2,
     "metadata": {},
     "output_type": "execute_result"
    }
   ],
   "source": [
    "fint = sp.integrate(f,(t,0,np.inf))\n",
    "fint"
   ]
  },
  {
   "cell_type": "code",
   "execution_count": 3,
   "id": "be27bfa9",
   "metadata": {},
   "outputs": [
    {
     "data": {
      "text/latex": [
       "$\\displaystyle 6$"
      ],
      "text/plain": [
       "6"
      ]
     },
     "execution_count": 3,
     "metadata": {},
     "output_type": "execute_result"
    }
   ],
   "source": [
    "sp.Abs(fint.subs(w,0))"
   ]
  },
  {
   "cell_type": "code",
   "execution_count": 4,
   "id": "c71bcded",
   "metadata": {},
   "outputs": [
    {
     "data": {
      "text/latex": [
       "$\\displaystyle 0$"
      ],
      "text/plain": [
       "0"
      ]
     },
     "execution_count": 4,
     "metadata": {},
     "output_type": "execute_result"
    }
   ],
   "source": [
    "sp.arg(fint.subs(w,0))"
   ]
  },
  {
   "cell_type": "code",
   "execution_count": 5,
   "id": "78e6c450",
   "metadata": {},
   "outputs": [
    {
     "data": {
      "text/latex": [
       "$\\displaystyle 4.24264068711929$"
      ],
      "text/plain": [
       "4.24264068711929"
      ]
     },
     "execution_count": 5,
     "metadata": {},
     "output_type": "execute_result"
    }
   ],
   "source": [
    "sp.Abs(fint.subs(w,a))"
   ]
  },
  {
   "cell_type": "code",
   "execution_count": 6,
   "id": "0ddea526",
   "metadata": {},
   "outputs": [
    {
     "data": {
      "text/latex": [
       "$\\displaystyle - \\frac{\\pi}{4}$"
      ],
      "text/plain": [
       "-pi/4"
      ]
     },
     "execution_count": 6,
     "metadata": {},
     "output_type": "execute_result"
    }
   ],
   "source": [
    "sp.arg(fint.subs(w,a))"
   ]
  },
  {
   "cell_type": "code",
   "execution_count": null,
   "id": "c6d00a22",
   "metadata": {},
   "outputs": [],
   "source": []
  }
 ],
 "metadata": {
  "kernelspec": {
   "display_name": "Python 3 (ipykernel)",
   "language": "python",
   "name": "python3"
  },
  "language_info": {
   "codemirror_mode": {
    "name": "ipython",
    "version": 3
   },
   "file_extension": ".py",
   "mimetype": "text/x-python",
   "name": "python",
   "nbconvert_exporter": "python",
   "pygments_lexer": "ipython3",
   "version": "3.9.13"
  }
 },
 "nbformat": 4,
 "nbformat_minor": 5
}
