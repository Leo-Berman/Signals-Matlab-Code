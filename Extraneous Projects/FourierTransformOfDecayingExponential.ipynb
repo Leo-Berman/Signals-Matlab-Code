{
 "cells": [
  {
   "cell_type": "code",
   "execution_count": 16,
   "id": "e97afeab",
   "metadata": {},
   "outputs": [
    {
     "data": {
      "text/latex": [
       "$\\displaystyle 30 e^{- 5 t} e^{- 1.0 i t w}$"
      ],
      "text/plain": [
       "30*exp(-5*t)*exp(-1.0*I*t*w)"
      ]
     },
     "execution_count": 16,
     "metadata": {},
     "output_type": "execute_result"
    }
   ],
   "source": [
    "import numpy as np\n",
    "import scipy as sc\n",
    "import sympy as sp\n",
    "\n",
    "A = 30\n",
    "a = 5\n",
    "\n",
    "t,w = sp.symbols('t w') real = True, positive = True)\n",
    "\n",
    "f = A*sp.exp(-a*t)*sp.exp(-1j*w*t)\n",
    "f"
   ]
  },
  {
   "cell_type": "code",
   "execution_count": null,
   "id": "11e37d02",
   "metadata": {},
   "outputs": [],
   "source": [
    "fint = sp.integrate(f,(t,0,np.inf))\n",
    "fint"
   ]
  },
  {
   "cell_type": "code",
   "execution_count": null,
   "id": "be27bfa9",
   "metadata": {},
   "outputs": [],
   "source": [
    "sp.Abs(fint.subs(w,0))"
   ]
  },
  {
   "cell_type": "code",
   "execution_count": null,
   "id": "cc85fc88",
   "metadata": {},
   "outputs": [],
   "source": [
    "sp.arg(fint.subs(w,0))"
   ]
  },
  {
   "cell_type": "code",
   "execution_count": null,
   "id": "f93d04f3",
   "metadata": {},
   "outputs": [],
   "source": [
    "sp.Abs(fint.subs(w,a))"
   ]
  },
  {
   "cell_type": "code",
   "execution_count": null,
   "id": "5d35003c",
   "metadata": {},
   "outputs": [],
   "source": [
    "sp.arg(fint.subs(w,a))"
   ]
  },
  {
   "cell_type": "code",
   "execution_count": 50,
   "id": "320d9a10",
   "metadata": {},
   "outputs": [],
   "source": []
  },
  {
   "cell_type": "code",
   "execution_count": 51,
   "id": "42f55d94",
   "metadata": {},
   "outputs": [
    {
     "data": {
      "text/latex": [
       "$\\displaystyle e^{- t^{2}}$"
      ],
      "text/plain": [
       "exp(-t**2)"
      ]
     },
     "execution_count": 51,
     "metadata": {},
     "output_type": "execute_result"
    }
   ],
   "source": []
  },
  {
   "cell_type": "code",
   "execution_count": 52,
   "id": "56d7ccbb",
   "metadata": {},
   "outputs": [],
   "source": []
  },
  {
   "cell_type": "code",
   "execution_count": 53,
   "id": "bef0d134",
   "metadata": {},
   "outputs": [
    {
     "data": {
      "text/latex": [
       "$\\displaystyle \\sqrt{\\pi} e^{- \\pi^{2} w^{2}}$"
      ],
      "text/plain": [
       "sqrt(pi)*exp(-pi**2*w**2)"
      ]
     },
     "execution_count": 53,
     "metadata": {},
     "output_type": "execute_result"
    }
   ],
   "source": []
  },
  {
   "cell_type": "code",
   "execution_count": null,
   "id": "114ec90c",
   "metadata": {},
   "outputs": [],
   "source": []
  }
 ],
 "metadata": {
  "kernelspec": {
   "display_name": "Python 3 (ipykernel)",
   "language": "python",
   "name": "python3"
  },
  "language_info": {
   "codemirror_mode": {
    "name": "ipython",
    "version": 3
   },
   "file_extension": ".py",
   "mimetype": "text/x-python",
   "name": "python",
   "nbconvert_exporter": "python",
   "pygments_lexer": "ipython3",
   "version": "3.9.13"
  }
 },
 "nbformat": 4,
 "nbformat_minor": 5
}
